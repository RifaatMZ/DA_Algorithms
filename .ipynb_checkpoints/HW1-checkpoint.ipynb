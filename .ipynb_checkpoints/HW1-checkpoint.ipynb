{
 "cells": [
  {
   "cell_type": "code",
   "execution_count": 1,
   "metadata": {},
   "outputs": [],
   "source": [
    "import numpy as np\n",
    "import matplotlib.pyplot as plt\n",
    "from mpl_toolkits.mplot3d.axes3d import Axes3D"
   ]
  },
  {
   "cell_type": "code",
   "execution_count": 5,
   "metadata": {},
   "outputs": [],
   "source": [
    "def calc_mae(y, y_pred):\n",
    "    err = np.mean(np.abs(y - y_pred))\n",
    "    return err\n",
    "\n",
    "def calc_mse(y, y_pred):\n",
    "    err = np.mean((y - y_pred)**2)\n",
    "    return err"
   ]
  },
  {
   "cell_type": "code",
   "execution_count": 8,
   "metadata": {},
   "outputs": [],
   "source": [
    "X = np.array([[ 1,  1],\n",
    "              [ 1,  1],\n",
    "              [ 1,  2],\n",
    "              [ 1,  5],\n",
    "              [ 1,  3],\n",
    "              [ 1,  0],\n",
    "              [ 1,  5],\n",
    "              [ 1, 10],\n",
    "              [ 1,  1],\n",
    "              [ 1,  2]])\n",
    "y = [45, 55, 50, 55, 60, 35, 75, 80, 50, 60]"
   ]
  },
  {
   "cell_type": "markdown",
   "metadata": {},
   "source": [
    "1. Подберите скорость обучения (eta) и количество итераций"
   ]
  },
  {
   "cell_type": "code",
   "execution_count": 9,
   "metadata": {},
   "outputs": [
    {
     "name": "stdout",
     "output_type": "stream",
     "text": [
      "Number of objects = 10        \n",
      "Learning rate = 0.01        \n",
      "Initial weights = [1.  0.5] \n",
      "\n",
      "Iteration #0: W_new = [2.08 4.27], MSE = 3047.75\n",
      "Iteration #10: W_new = [ 6.67106886 10.61676385], MSE = 749.71\n",
      "Iteration #20: W_new = [ 9.49320908 10.25731657], MSE = 648.91\n",
      "Iteration #30: W_new = [11.85740092  9.83349244], MSE = 570.46\n",
      "Iteration #40: W_new = [13.86876921  9.46898661], MSE = 508.03\n",
      "Iteration #50: W_new = [15.59085668  9.15672679], MSE = 457.73\n",
      "Iteration #60: W_new = [17.07337653  8.88789585], MSE = 416.77\n",
      "Iteration #70: W_new = [18.35601294  8.65530964], MSE = 383.06\n",
      "Iteration #80: W_new = [19.47073522  8.45317196], MSE = 355.08\n",
      "Iteration #90: W_new = [20.44350656  8.27677488], MSE = 331.65\n"
     ]
    }
   ],
   "source": [
    "n = X.shape[0]\n",
    "\n",
    "eta = 1e-2 \n",
    "n_iter = 100\n",
    "\n",
    "W = np.array([1, 0.5])\n",
    "print(f'Number of objects = {n} \\\n",
    "       \\nLearning rate = {eta} \\\n",
    "       \\nInitial weights = {W} \\n')\n",
    "\n",
    "for i in range(n_iter):\n",
    "    y_pred = np.dot(X, W)\n",
    "    err = calc_mse(y, y_pred)\n",
    "    for k in range(W.shape[0]):\n",
    "        W[k] -= eta * (1/n * 2 * X[:, k] @ (y_pred - y))\n",
    "    if i % 10 == 0:\n",
    "        eta /= 1.1\n",
    "        print(f'Iteration #{i}: W_new = {W}, MSE = {round(err, 2)}')"
   ]
  },
  {
   "cell_type": "markdown",
   "metadata": {},
   "source": [
    "2*. В этом коде мы избавляемся от итераций по весам, но тут есть ошибка, исправьте ее"
   ]
  },
  {
   "cell_type": "code",
   "execution_count": 14,
   "metadata": {},
   "outputs": [
    {
     "name": "stdout",
     "output_type": "stream",
     "text": [
      "Number of objects = 10        \n",
      "Learning rate = 0.01        \n",
      "Initial weights = [1.  0.5] \n",
      "\n",
      "Iteration #0: W_new = [2.08 4.27], MSE = 3047.75\n",
      "Iteration #10: W_new = [ 7.0011236 10.6169007], MSE = 738.65\n",
      "Iteration #20: W_new = [10.3486292  10.10603105], MSE = 622.03\n",
      "Iteration #30: W_new = [13.38789582  9.55618391], MSE = 525.24\n",
      "Iteration #40: W_new = [16.16088505  9.05336203], MSE = 444.66\n",
      "Iteration #50: W_new = [18.69110735  8.59454545], MSE = 377.58\n",
      "Iteration #60: W_new = [20.99981865  8.17589626], MSE = 321.72\n",
      "Iteration #70: W_new = [23.10641138  7.79389815], MSE = 275.22\n",
      "Iteration #80: W_new = [25.02858024  7.44534246], MSE = 236.5\n",
      "Iteration #90: W_new = [26.78247081  7.12730145], MSE = 204.27\n"
     ]
    }
   ],
   "source": [
    "n = X.shape[0]\n",
    "\n",
    "eta = 1e-2 \n",
    "n_iter = 100\n",
    "\n",
    "W = np.array([1, 0.5])\n",
    "print(f'Number of objects = {n} \\\n",
    "       \\nLearning rate = {eta} \\\n",
    "       \\nInitial weights = {W} \\n')\n",
    "\n",
    "for i in range(n_iter):\n",
    "    y_pred = np.dot(X, W)\n",
    "    err = calc_mse(y, y_pred)\n",
    "    \n",
    "    # ИЗМЕНЕНИЯ \n",
    "    # X.T\n",
    "    W -= eta * (1/n * 2 * np.dot(X.T, y_pred - y))\n",
    "    #\n",
    "    \n",
    "    if i % 10 == 0:\n",
    "        print(f'Iteration #{i}: W_new = {W}, MSE = {round(err,2)}')"
   ]
  },
  {
   "cell_type": "markdown",
   "metadata": {},
   "source": [
    "3*. Вместо того, чтобы задавать количество итераций, задайте другое условие останова алгоритма - когда веса перестают изменяться меньше определенного порога  𝜖 ."
   ]
  },
  {
   "cell_type": "code",
   "execution_count": 13,
   "metadata": {},
   "outputs": [
    {
     "name": "stdout",
     "output_type": "stream",
     "text": [
      "Number of objects = 10        \n",
      "Learning rate = 0.01        \n",
      "Initial weights = [1.  0.5] \n",
      "\n",
      "Iteration #10: W_new = [ 6.64172205 10.62940003],MSE = 752.02\n",
      "Iteration #20: W_new = [10.02900674 10.16329008],MSE = 632.72\n",
      "Iteration #30: W_new = [13.09636548  9.60903915],MSE = 534.14\n",
      "Iteration #40: W_new = [15.89487851  9.10159809],MSE = 452.07\n",
      "Iteration #50: W_new = [18.44838865  8.63855875],MSE = 383.75\n",
      "Iteration #60: W_new = [20.77834901  8.21605636],MSE = 326.86\n",
      "Iteration #70: W_new = [22.90433054  7.83054239],MSE = 279.49\n",
      "Iteration #80: W_new = [24.84419078  7.47877865],MSE = 240.06\n",
      "Iteration #90: W_new = [26.61422391  7.15781043],MSE = 207.23\n",
      "Iteration #100: W_new = [28.22929764  6.86494171],MSE = 179.9\n",
      "Iteration #110: W_new = [29.70297804  6.59771249],MSE = 157.14\n",
      "Iteration #120: W_new = [31.04764353  6.35387814],MSE = 138.19\n",
      "Iteration #130: W_new = [32.27458888  6.13139052],MSE = 122.41\n",
      "Iteration #140: W_new = [33.39412     5.92838081],MSE = 109.28\n",
      "Iteration #150: W_new = [34.41564059  5.7431438 ],MSE = 98.35\n",
      "Iteration #160: W_new = [35.34773109  5.57412356],MSE = 89.24\n",
      "Iteration #170: W_new = [36.19822075  5.41990037],MSE = 81.66\n",
      "Iteration #180: W_new = [36.9742534   5.27917882],MSE = 75.35\n",
      "Iteration #190: W_new = [37.68234745  5.15077688],MSE = 70.1\n",
      "Iteration #200: W_new = [38.32845066  5.03361602],MSE = 65.72\n",
      "Iteration #210: W_new = [38.91799009  4.92671213],MSE = 62.08\n",
      "Iteration #220: W_new = [39.45591767  4.82916726],MSE = 59.05\n",
      "Iteration #230: W_new = [39.94675181  4.74016206],MSE = 56.52\n",
      "Iteration #240: W_new = [40.39461537  4.65894891],MSE = 54.42\n",
      "Iteration #250: W_new = [40.80327023  4.58484565],MSE = 52.67\n",
      "Iteration #260: W_new = [41.17614898  4.51722984],MSE = 51.21\n",
      "Iteration #270: W_new = [41.51638367  4.45553352],MSE = 50.0\n",
      "Iteration #280: W_new = [41.82683215  4.39923848],MSE = 48.99\n",
      "Iteration #290: W_new = [42.11010209  4.34787184],MSE = 48.15\n",
      "Iteration #300: W_new = [42.36857287  4.30100215],MSE = 47.45\n",
      "Iteration #310: W_new = [42.60441555  4.25823571],MSE = 46.87\n",
      "Iteration #320: W_new = [42.81961114  4.21921331],MSE = 46.38\n",
      "Iteration #330: W_new = [43.0159672   4.18360717],MSE = 45.98\n",
      "Iteration #340: W_new = [43.19513307  4.1511182 ],MSE = 45.64\n",
      "Iteration #350: W_new = [43.35861367  4.12147351],MSE = 45.36\n",
      "Iteration #360: W_new = [43.50778219  4.0944241 ],MSE = 45.13\n",
      "Iteration #370: W_new = [43.6438916   4.06974276],MSE = 44.93\n",
      "Iteration #380: W_new = [43.76808516  4.04722217],MSE = 44.77\n",
      "Iteration #390: W_new = [43.88140607  4.02667317],MSE = 44.64\n",
      "Iteration #400: W_new = [43.98480618  4.00792316],MSE = 44.53\n"
     ]
    }
   ],
   "source": [
    "n = X.shape[0]\n",
    "\n",
    "eta = 1e-2 \n",
    "e = 0.01\n",
    "i = 0\n",
    "\n",
    "W = np.array([1, 0.5])\n",
    "W_old = W + (e * 2)\n",
    "\n",
    "print(f'Number of objects = {n} \\\n",
    "       \\nLearning rate = {eta} \\\n",
    "       \\nInitial weights = {W} \\n')\n",
    "\n",
    "while np.absolute(W_old[0] - W[0]) > e or np.absolute(W_old[1] - W[1]) > e:\n",
    "    y_pred = np.dot(X, W)\n",
    "    err = calc_mse(y, y_pred)\n",
    "\n",
    "    W_old = np.copy(W)\n",
    "    W -= eta * (1/n * 2 * np.dot(X.T, y_pred - y))\n",
    "    i += 1\n",
    "    \n",
    "    if i % 10 == 0:\n",
    "        print(f'Iteration #{i}: W_new = {W},MSE = {round(err,2)}')"
   ]
  },
  {
   "cell_type": "code",
   "execution_count": null,
   "metadata": {},
   "outputs": [],
   "source": []
  }
 ],
 "metadata": {
  "kernelspec": {
   "display_name": "Python 3",
   "language": "python",
   "name": "python3"
  },
  "language_info": {
   "codemirror_mode": {
    "name": "ipython",
    "version": 3
   },
   "file_extension": ".py",
   "mimetype": "text/x-python",
   "name": "python",
   "nbconvert_exporter": "python",
   "pygments_lexer": "ipython3",
   "version": "3.8.3"
  }
 },
 "nbformat": 4,
 "nbformat_minor": 4
}
