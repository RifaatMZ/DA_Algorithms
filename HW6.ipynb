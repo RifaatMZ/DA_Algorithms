{
 "cells": [
  {
   "cell_type": "code",
   "execution_count": 1,
   "metadata": {},
   "outputs": [],
   "source": [
    "from sklearn import model_selection\n",
    "from sklearn.tree import DecisionTreeRegressor\n",
    "from sklearn.datasets import load_diabetes\n",
    "import matplotlib.pyplot as plt\n",
    "import numpy as np"
   ]
  },
  {
   "cell_type": "markdown",
   "metadata": {},
   "source": [
    "1. Для реализованной модели градиентного бустинга построить графики зависимости ошибки от количества деревьев в ансамбле и от максимальной глубины деревьев. Сделать выводы о зависимости ошибки от этих параметров."
   ]
  },
  {
   "cell_type": "code",
   "execution_count": 2,
   "metadata": {},
   "outputs": [
    {
     "data": {
      "text/plain": [
       "((442, 10), (442,))"
      ]
     },
     "execution_count": 2,
     "metadata": {},
     "output_type": "execute_result"
    }
   ],
   "source": [
    "X, y = load_diabetes(return_X_y=True)\n",
    "X.shape, y.shape"
   ]
  },
  {
   "cell_type": "code",
   "execution_count": 3,
   "metadata": {},
   "outputs": [],
   "source": [
    "X_train, X_test, y_train, y_test = model_selection.train_test_split(X, y, test_size=0.25)"
   ]
  },
  {
   "cell_type": "code",
   "execution_count": 4,
   "metadata": {},
   "outputs": [],
   "source": [
    "def gb_predict(X, trees_list, eta):     \n",
    "    predictions = np.array(\n",
    "        [sum([eta * alg.predict([x])[0] for alg in trees_list]) for x in X]\n",
    "    )\n",
    "    return predictions"
   ]
  },
  {
   "cell_type": "code",
   "execution_count": 5,
   "metadata": {},
   "outputs": [],
   "source": [
    "def mean_squared_error(y_real, prediction):\n",
    "    return (sum((y_real - prediction)**2)) / len(y_real)"
   ]
  },
  {
   "cell_type": "code",
   "execution_count": 6,
   "metadata": {},
   "outputs": [],
   "source": [
    "def residual(y, z):\n",
    "    return - (z - y)"
   ]
  },
  {
   "cell_type": "code",
   "execution_count": 7,
   "metadata": {},
   "outputs": [],
   "source": [
    "def gb_fit(n_trees, max_depth, X_train, X_test, y_train, y_test, eta):\n",
    "    \n",
    "    # Деревья будем записывать в список\n",
    "    trees = []\n",
    "    \n",
    "    # Будем записывать ошибки на обучающей и тестовой выборке на каждой итерации в список\n",
    "    train_errors = []\n",
    "    test_errors = []\n",
    "    \n",
    "    for i in range(n_trees):\n",
    "        tree = DecisionTreeRegressor(max_depth=max_depth, random_state=42)\n",
    "\n",
    "        # первый алгоритм просто обучаем на выборке и добавляем в список\n",
    "        if len(trees) == 0:\n",
    "            # обучаем первое дерево на обучающей выборке\n",
    "            tree.fit(X_train, y_train)\n",
    "            \n",
    "            train_errors.append(mean_squared_error(y_train, gb_predict(X_train, trees, eta)))\n",
    "            test_errors.append(mean_squared_error(y_test, gb_predict(X_test, trees, eta)))\n",
    "        else:\n",
    "            # Получим ответы на текущей композиции\n",
    "            target = gb_predict(X_train, trees, eta)\n",
    "            \n",
    "            # алгоритмы начиная со второго обучаем на сдвиг\n",
    "            tree.fit(X_train, residual(y_train, target))\n",
    "            \n",
    "            train_errors.append(mean_squared_error(y_train, gb_predict(X_train, trees, eta)))\n",
    "            test_errors.append(mean_squared_error(y_test, gb_predict(X_test, trees, eta)))\n",
    "\n",
    "        trees.append(tree)\n",
    "        \n",
    "    return trees, train_errors, test_errors"
   ]
  },
  {
   "cell_type": "code",
   "execution_count": 8,
   "metadata": {},
   "outputs": [],
   "source": [
    "def plot_depth_err(max_depth, X_train, X_test, y_train, y_test):\n",
    "    eta = 1\n",
    "    n_trees = 3\n",
    "    depth = 0\n",
    "\n",
    "    train_errors_list = []\n",
    "    test_errors_list = []\n",
    "    n_depth = []\n",
    "\n",
    "    while depth < max_depth:\n",
    "        depth +=1\n",
    "\n",
    "        trees, train_errors, test_errors = gb_fit(n_trees, depth, X_train, X_test, y_train, y_test, eta)\n",
    "\n",
    "        train_prediction = gb_predict(X_train, trees, eta)\n",
    "        test_prediction = gb_predict(X_test, trees, eta)\n",
    "\n",
    "        train_errors_list.append(mean_squared_error(y_train, train_prediction))\n",
    "        test_errors_list.append(mean_squared_error(y_test, test_prediction)) \n",
    "\n",
    "        n_depth.append(depth)\n",
    "    \n",
    "    return (plt.plot(n_depth, train_errors_list, label='train'),\n",
    "            plt.plot(n_depth, test_errors_list, label='test'),\n",
    "            plt.legend(loc='center right'),\n",
    "            plt.xlabel('depth'),\n",
    "            plt.ylabel('error'))"
   ]
  },
  {
   "cell_type": "code",
   "execution_count": 9,
   "metadata": {},
   "outputs": [
    {
     "data": {
      "text/plain": [
       "([<matplotlib.lines.Line2D at 0x7fa0a019ef70>],\n",
       " [<matplotlib.lines.Line2D at 0x7fa0a01ad310>],\n",
       " <matplotlib.legend.Legend at 0x7fa0a019edf0>,\n",
       " Text(0.5, 0, 'depth'),\n",
       " Text(0, 0.5, 'error'))"
      ]
     },
     "execution_count": 9,
     "metadata": {},
     "output_type": "execute_result"
    },
    {
     "data": {
      "image/png": "[encoded data removed]",
      "text/plain": [
       "<Figure size 432x288 with 1 Axes>"
      ]
     },
     "metadata": {
      "needs_background": "light"
     },
     "output_type": "display_data"
    }
   ],
   "source": [
    "plot_depth_err(20, X_train, X_test, y_train, y_test)"
   ]
  },
  {
   "cell_type": "code",
   "execution_count": 10,
   "metadata": {},
   "outputs": [],
   "source": [
    "def plot_ntrees_err(max_ntrees, X_train, X_test, y_train, y_test):\n",
    "    eta = 1\n",
    "    n_trees = 0\n",
    "    depth = 3\n",
    "\n",
    "    train_errors_list = []\n",
    "    test_errors_list = []\n",
    "    trees_count = []\n",
    "\n",
    "    while n_trees < max_ntrees:\n",
    "        n_trees +=1\n",
    "\n",
    "        trees, train_errors, test_errors = gb_fit(n_trees, depth, X_train, X_test, y_train, y_test, eta)\n",
    "\n",
    "        train_prediction = gb_predict(X_train, trees, eta)\n",
    "        test_prediction = gb_predict(X_test, trees, eta)\n",
    "\n",
    "        train_errors_list.append(mean_squared_error(y_train, train_prediction))\n",
    "        test_errors_list.append(mean_squared_error(y_test, test_prediction)) \n",
    "\n",
    "        trees_count.append(n_trees)\n",
    "    \n",
    "    return (plt.plot(trees_count, train_errors_list, label='train'),\n",
    "            plt.plot(trees_count, test_errors_list, label='test'),\n",
    "            plt.legend(loc='center right'),\n",
    "            plt.xlabel('trees'),\n",
    "            plt.ylabel('error'))"
   ]
  },
  {
   "cell_type": "code",
   "execution_count": 11,
   "metadata": {},
   "outputs": [
    {
     "data": {
      "text/plain": [
       "([<matplotlib.lines.Line2D at 0x7fa0a01469d0>],\n",
       " [<matplotlib.lines.Line2D at 0x7fa0a0146d30>],\n",
       " <matplotlib.legend.Legend at 0x7fa0a0146760>,\n",
       " Text(0.5, 0, 'trees'),\n",
       " Text(0, 0.5, 'error'))"
      ]
     },
     "execution_count": 11,
     "metadata": {},
     "output_type": "execute_result"
    },
    {
     "data": {
      "image/png": "[encoded data removed]",
      "text/plain": [
       "<Figure size 432x288 with 1 Axes>"
      ]
     },
     "metadata": {
      "needs_background": "light"
     },
     "output_type": "display_data"
    }
   ],
   "source": [
    "plot_ntrees_err(20, X_train, X_test, y_train, y_test)"
   ]
  },
  {
   "cell_type": "code",
   "execution_count": 12,
   "metadata": {},
   "outputs": [],
   "source": [
    "# модель переобучаестя при увелечение количества и глубины деревьев"
   ]
  },
  {
   "cell_type": "code",
   "execution_count": null,
   "metadata": {},
   "outputs": [],
   "source": []
  }
 ],
 "metadata": {
  "kernelspec": {
   "display_name": "Python 3",
   "language": "python",
   "name": "python3"
  },
  "language_info": {
   "codemirror_mode": {
    "name": "ipython",
    "version": 3
   },
   "file_extension": ".py",
   "mimetype": "text/x-python",
   "name": "python",
   "nbconvert_exporter": "python",
   "pygments_lexer": "ipython3",
   "version": "3.8.3"
  }
 },
 "nbformat": 4,
 "nbformat_minor": 4
}
